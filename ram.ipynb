{
 "cells": [
  {
   "cell_type": "code",
   "execution_count": 1,
   "id": "edbdd208",
   "metadata": {},
   "outputs": [],
   "source": [
    "def greet():\n",
    "    print('hii')"
   ]
  },
  {
   "cell_type": "code",
   "execution_count": 2,
   "id": "bdfcc34e",
   "metadata": {},
   "outputs": [
    {
     "name": "stdout",
     "output_type": "stream",
     "text": [
      "hii\n"
     ]
    }
   ],
   "source": [
    "greet()"
   ]
  },
  {
   "cell_type": "code",
   "execution_count": 4,
   "id": "a2349f91",
   "metadata": {},
   "outputs": [],
   "source": [
    "def greet():\n",
    "    print('hai')"
   ]
  },
  {
   "cell_type": "code",
   "execution_count": 5,
   "id": "9158c53f",
   "metadata": {},
   "outputs": [
    {
     "name": "stdout",
     "output_type": "stream",
     "text": [
      "hai\n"
     ]
    }
   ],
   "source": [
    "greet()"
   ]
  },
  {
   "cell_type": "code",
   "execution_count": 20,
   "id": "94161272",
   "metadata": {},
   "outputs": [],
   "source": [
    "def user_name(name):\n",
    "    \"\"\"creating for function of getting my name\"\"\"\n",
    "    print(f\"my name is {name.title()}\")"
   ]
  },
  {
   "cell_type": "code",
   "execution_count": 21,
   "id": "19730fa3",
   "metadata": {},
   "outputs": [
    {
     "name": "stdout",
     "output_type": "stream",
     "text": [
      "my name is Ram\n"
     ]
    }
   ],
   "source": [
    "user_name('ram')"
   ]
  },
  {
   "cell_type": "code",
   "execution_count": 25,
   "id": "35b206b3",
   "metadata": {},
   "outputs": [],
   "source": [
    "def user_name(name):\n",
    "    \"\"\"creating a function of getting my full_name\"\"\"\n",
    "    print(f\"my full name is {name.upper()}\")"
   ]
  },
  {
   "cell_type": "code",
   "execution_count": 26,
   "id": "6f9daeb0",
   "metadata": {},
   "outputs": [
    {
     "name": "stdout",
     "output_type": "stream",
     "text": [
      "my full name is JANAKIRAMGADI\n"
     ]
    }
   ],
   "source": [
    "user_name('janakiramgadi')"
   ]
  },
  {
   "cell_type": "code",
   "execution_count": 42,
   "id": "99128aaf",
   "metadata": {},
   "outputs": [],
   "source": [
    "def full_name():\n",
    "    \"\"\"creating a function of getting my full name\"\"\"\n",
    "    f_name='janaki'\n",
    "    m_name='ram'\n",
    "    l_name='gadi'\n",
    "    print(f\"my full name is {f_name.upper()}{m_name.upper()}{l_name.upper()}\")"
   ]
  },
  {
   "cell_type": "code",
   "execution_count": 43,
   "id": "94c9505c",
   "metadata": {},
   "outputs": [
    {
     "name": "stdout",
     "output_type": "stream",
     "text": [
      "my full name is JANAKIRAMGADI\n"
     ]
    }
   ],
   "source": [
    "full_name()"
   ]
  },
  {
   "cell_type": "code",
   "execution_count": 73,
   "id": "95f9510d",
   "metadata": {},
   "outputs": [],
   "source": [
    "def fav_cricketer(role,name,nick_name):\n",
    "    \"\"\"creating a info about a cricketer\"\"\"\n",
    "    print(f\"\\n my favourite cricketer is a {name.title()}\")\n",
    "    print(f\" my favourite cricketer is a {name.title()},\\n the is a world best batesman and he is a {role.title()},\\n and also fans calles him {nick_name.title()}\")"
   ]
  },
  {
   "cell_type": "code",
   "execution_count": 74,
   "id": "17c042eb",
   "metadata": {},
   "outputs": [
    {
     "name": "stdout",
     "output_type": "stream",
     "text": [
      "\n",
      " my favourite cricketer is a Virat Kohli\n",
      " my favourite cricketer is a Virat Kohli,\n",
      " the is a world best batesman and he is a Right Hand Batesman,\n",
      " and also fans calles him King Kohli\n"
     ]
    }
   ],
   "source": [
    "fav_cricketer('right hand batesman','virat kohli','king kohli')"
   ]
  },
  {
   "cell_type": "code",
   "execution_count": 67,
   "id": "1cab5c04",
   "metadata": {},
   "outputs": [],
   "source": [
    "def my_hobbies(a,b,c,d):\n",
    "    \"\"\"creating some info about my hobbies\"\"\"\n",
    "    print(f\"\\n my hobbies are {a},\\n\\t{b},\\n\\t{c},\\n\\t{d}\")\n"
   ]
  },
  {
   "cell_type": "code",
   "execution_count": 68,
   "id": "0a4807dc",
   "metadata": {},
   "outputs": [
    {
     "name": "stdout",
     "output_type": "stream",
     "text": [
      "\n",
      " my hobbies are playing cricket,\n",
      "\twatching T.V,\n",
      "\twatching movies,\n",
      "\treading news\n"
     ]
    }
   ],
   "source": [
    "my_hobbies('playing cricket','watching T.V','watching movies','reading news')"
   ]
  },
  {
   "cell_type": "code",
   "execution_count": null,
   "id": "39722a50",
   "metadata": {},
   "outputs": [],
   "source": []
  },
  {
   "cell_type": "code",
   "execution_count": null,
   "id": "d3e2cc7f",
   "metadata": {},
   "outputs": [],
   "source": []
  },
  {
   "cell_type": "code",
   "execution_count": null,
   "id": "2d982103",
   "metadata": {},
   "outputs": [],
   "source": []
  }
 ],
 "metadata": {
  "kernelspec": {
   "display_name": "Python 3",
   "language": "python",
   "name": "python3"
  },
  "language_info": {
   "codemirror_mode": {
    "name": "ipython",
    "version": 3
   },
   "file_extension": ".py",
   "mimetype": "text/x-python",
   "name": "python",
   "nbconvert_exporter": "python",
   "pygments_lexer": "ipython3",
   "version": "3.8.5"
  }
 },
 "nbformat": 4,
 "nbformat_minor": 5
}
