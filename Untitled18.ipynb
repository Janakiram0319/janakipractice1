{
 "cells": [
  {
   "cell_type": "code",
   "execution_count": 38,
   "id": "d6987ccc",
   "metadata": {},
   "outputs": [],
   "source": [
    "class exit:\n",
    "    a='fish'\n",
    "    b='crab'\n",
    "    def ex(self):\n",
    "        print('hello all')\n",
    "    def form(self):\n",
    "        print(f\"my favoruite items are {hii.a},{hii.b}\")"
   ]
  },
  {
   "cell_type": "code",
   "execution_count": 39,
   "id": "a7badc4e",
   "metadata": {},
   "outputs": [],
   "source": [
    "hii=exit()"
   ]
  },
  {
   "cell_type": "code",
   "execution_count": 40,
   "id": "6a69cfe7",
   "metadata": {},
   "outputs": [
    {
     "data": {
      "text/plain": [
       "'fish'"
      ]
     },
     "execution_count": 40,
     "metadata": {},
     "output_type": "execute_result"
    }
   ],
   "source": [
    "hii.a"
   ]
  },
  {
   "cell_type": "code",
   "execution_count": 41,
   "id": "ce3f676c",
   "metadata": {},
   "outputs": [
    {
     "data": {
      "text/plain": [
       "'crab'"
      ]
     },
     "execution_count": 41,
     "metadata": {},
     "output_type": "execute_result"
    }
   ],
   "source": [
    "hii.b"
   ]
  },
  {
   "cell_type": "code",
   "execution_count": 42,
   "id": "eabe57ec",
   "metadata": {},
   "outputs": [
    {
     "name": "stdout",
     "output_type": "stream",
     "text": [
      "hello all\n"
     ]
    }
   ],
   "source": [
    "hii.ex()"
   ]
  },
  {
   "cell_type": "code",
   "execution_count": 44,
   "id": "27728dde",
   "metadata": {},
   "outputs": [
    {
     "name": "stdout",
     "output_type": "stream",
     "text": [
      "my favoruite items are fish,crab\n"
     ]
    }
   ],
   "source": [
    "hii.form()"
   ]
  },
  {
   "cell_type": "code",
   "execution_count": 45,
   "id": "f7fa933c",
   "metadata": {},
   "outputs": [
    {
     "name": "stdout",
     "output_type": "stream",
     "text": [
      "hello all\n",
      "my favoruite items are fish,crab\n"
     ]
    }
   ],
   "source": [
    "hii.ex()\n",
    "hii.form()"
   ]
  },
  {
   "cell_type": "code",
   "execution_count": 10,
   "id": "994d5605",
   "metadata": {},
   "outputs": [],
   "source": [
    "class lyf:\n",
    "    def happy(self):\n",
    "        print('nothing')\n",
    "    def sad(self):\n",
    "        print('always')"
   ]
  },
  {
   "cell_type": "code",
   "execution_count": 11,
   "id": "2a03df36",
   "metadata": {},
   "outputs": [],
   "source": [
    "ex=lyf()"
   ]
  },
  {
   "cell_type": "code",
   "execution_count": 13,
   "id": "f86036ed",
   "metadata": {},
   "outputs": [
    {
     "name": "stdout",
     "output_type": "stream",
     "text": [
      "nothing\n"
     ]
    }
   ],
   "source": [
    "ex.happy()"
   ]
  },
  {
   "cell_type": "code",
   "execution_count": 14,
   "id": "c3a0aea0",
   "metadata": {},
   "outputs": [
    {
     "name": "stdout",
     "output_type": "stream",
     "text": [
      "always\n"
     ]
    }
   ],
   "source": [
    "ex.sad()"
   ]
  },
  {
   "cell_type": "markdown",
   "id": "729030c3",
   "metadata": {},
   "source": [
    "# oops"
   ]
  },
  {
   "cell_type": "markdown",
   "id": "4d95deab",
   "metadata": {},
   "source": [
    "Object Oriented Programming System\n",
    "OOPS\n",
    "    1.Inheritence\n",
    "    2.Adstraction\n",
    "    3.polymorphism\n",
    "    4.Multiple inheritence\n",
    "    5.Hiearchy\n",
    "1.Inheritence\n",
    "   super class and sub class comparsion aquiring the propertics from parent class\n",
    "   child class is going to acquire the properties from parent class\n",
    "            1.parent class\n",
    "            2.child class"
   ]
  },
  {
   "cell_type": "code",
   "execution_count": 46,
   "id": "15469f55",
   "metadata": {},
   "outputs": [],
   "source": [
    "class boss:\n",
    "    gm='ram'\n",
    "    manager='janaki'\n",
    "class management:\n",
    "    ceo='janaki ram'"
   ]
  },
  {
   "cell_type": "code",
   "execution_count": 47,
   "id": "22ec7194",
   "metadata": {},
   "outputs": [],
   "source": [
    "a=boss()"
   ]
  },
  {
   "cell_type": "code",
   "execution_count": 48,
   "id": "5f45b663",
   "metadata": {},
   "outputs": [
    {
     "data": {
      "text/plain": [
       "'ram'"
      ]
     },
     "execution_count": 48,
     "metadata": {},
     "output_type": "execute_result"
    }
   ],
   "source": [
    "a.gm"
   ]
  },
  {
   "cell_type": "code",
   "execution_count": 49,
   "id": "ef64d859",
   "metadata": {},
   "outputs": [
    {
     "data": {
      "text/plain": [
       "'janaki'"
      ]
     },
     "execution_count": 49,
     "metadata": {},
     "output_type": "execute_result"
    }
   ],
   "source": [
    "a.manager"
   ]
  },
  {
   "cell_type": "code",
   "execution_count": 50,
   "id": "acff45f6",
   "metadata": {},
   "outputs": [
    {
     "ename": "AttributeError",
     "evalue": "'boss' object has no attribute 'ceo'",
     "output_type": "error",
     "traceback": [
      "\u001b[1;31m---------------------------------------------------------------------------\u001b[0m",
      "\u001b[1;31mAttributeError\u001b[0m                            Traceback (most recent call last)",
      "\u001b[1;32m<ipython-input-50-89a6d2af4a6d>\u001b[0m in \u001b[0;36m<module>\u001b[1;34m\u001b[0m\n\u001b[1;32m----> 1\u001b[1;33m \u001b[0ma\u001b[0m\u001b[1;33m.\u001b[0m\u001b[0mceo\u001b[0m\u001b[1;33m\u001b[0m\u001b[1;33m\u001b[0m\u001b[0m\n\u001b[0m",
      "\u001b[1;31mAttributeError\u001b[0m: 'boss' object has no attribute 'ceo'"
     ]
    }
   ],
   "source": [
    "a.ceo"
   ]
  },
  {
   "cell_type": "code",
   "execution_count": 52,
   "id": "e6647edf",
   "metadata": {},
   "outputs": [],
   "source": [
    "b=management()"
   ]
  },
  {
   "cell_type": "code",
   "execution_count": 53,
   "id": "06297076",
   "metadata": {},
   "outputs": [
    {
     "data": {
      "text/plain": [
       "'janaki ram'"
      ]
     },
     "execution_count": 53,
     "metadata": {},
     "output_type": "execute_result"
    }
   ],
   "source": [
    "b.ceo"
   ]
  },
  {
   "cell_type": "code",
   "execution_count": 54,
   "id": "6852004c",
   "metadata": {},
   "outputs": [],
   "source": [
    "class boss:\n",
    "    gm='ram'\n",
    "    manager='janaki'\n",
    "class management(boss):\n",
    "    ceo='janaki ram'\n",
    "    pass"
   ]
  },
  {
   "cell_type": "code",
   "execution_count": 60,
   "id": "9bc41c31",
   "metadata": {},
   "outputs": [],
   "source": [
    "c=boss()"
   ]
  },
  {
   "cell_type": "code",
   "execution_count": 61,
   "id": "0892af84",
   "metadata": {},
   "outputs": [
    {
     "data": {
      "text/plain": [
       "'ram'"
      ]
     },
     "execution_count": 61,
     "metadata": {},
     "output_type": "execute_result"
    }
   ],
   "source": [
    "c.gm"
   ]
  },
  {
   "cell_type": "code",
   "execution_count": 62,
   "id": "bfac9a21",
   "metadata": {},
   "outputs": [
    {
     "data": {
      "text/plain": [
       "'janaki'"
      ]
     },
     "execution_count": 62,
     "metadata": {},
     "output_type": "execute_result"
    }
   ],
   "source": [
    "c.manager"
   ]
  },
  {
   "cell_type": "code",
   "execution_count": 63,
   "id": "2cd8bea7",
   "metadata": {},
   "outputs": [],
   "source": [
    "d=management()"
   ]
  },
  {
   "cell_type": "code",
   "execution_count": 64,
   "id": "e4314b4b",
   "metadata": {},
   "outputs": [
    {
     "data": {
      "text/plain": [
       "'ram'"
      ]
     },
     "execution_count": 64,
     "metadata": {},
     "output_type": "execute_result"
    }
   ],
   "source": [
    "d.gm"
   ]
  },
  {
   "cell_type": "code",
   "execution_count": 65,
   "id": "76406917",
   "metadata": {},
   "outputs": [
    {
     "data": {
      "text/plain": [
       "'janaki'"
      ]
     },
     "execution_count": 65,
     "metadata": {},
     "output_type": "execute_result"
    }
   ],
   "source": [
    "d.manager"
   ]
  },
  {
   "cell_type": "code",
   "execution_count": 66,
   "id": "2c3f765a",
   "metadata": {},
   "outputs": [
    {
     "data": {
      "text/plain": [
       "'janaki ram'"
      ]
     },
     "execution_count": 66,
     "metadata": {},
     "output_type": "execute_result"
    }
   ],
   "source": [
    "d.ceo"
   ]
  },
  {
   "cell_type": "code",
   "execution_count": 67,
   "id": "1617602c",
   "metadata": {},
   "outputs": [],
   "source": [
    "class syntax:\n",
    "    a=10\n",
    "    b=20\n",
    "    def show(self):\n",
    "        print('syntax')\n",
    "class period(syntax):\n",
    "    c=30\n",
    "    d=40\n",
    "    def display(self):\n",
    "        print('period')"
   ]
  },
  {
   "cell_type": "code",
   "execution_count": 68,
   "id": "0906ce04",
   "metadata": {},
   "outputs": [
    {
     "name": "stdout",
     "output_type": "stream",
     "text": [
      "10 20\n",
      "syntax\n"
     ]
    }
   ],
   "source": [
    "aodj=syntax()\n",
    "print(aodj.a,aodj.b)\n",
    "aodj.show()"
   ]
  },
  {
   "cell_type": "code",
   "execution_count": 69,
   "id": "d583c879",
   "metadata": {},
   "outputs": [
    {
     "ename": "AttributeError",
     "evalue": "'syntax' object has no attribute 'd'",
     "output_type": "error",
     "traceback": [
      "\u001b[1;31m---------------------------------------------------------------------------\u001b[0m",
      "\u001b[1;31mAttributeError\u001b[0m                            Traceback (most recent call last)",
      "\u001b[1;32m<ipython-input-69-31cee2bd5b8d>\u001b[0m in \u001b[0;36m<module>\u001b[1;34m\u001b[0m\n\u001b[1;32m----> 1\u001b[1;33m \u001b[0maodj\u001b[0m\u001b[1;33m.\u001b[0m\u001b[0md\u001b[0m\u001b[1;33m\u001b[0m\u001b[1;33m\u001b[0m\u001b[0m\n\u001b[0m",
      "\u001b[1;31mAttributeError\u001b[0m: 'syntax' object has no attribute 'd'"
     ]
    }
   ],
   "source": [
    "aodj.d"
   ]
  },
  {
   "cell_type": "code",
   "execution_count": 70,
   "id": "a13c47f2",
   "metadata": {},
   "outputs": [],
   "source": [
    "bodj=period()"
   ]
  },
  {
   "cell_type": "code",
   "execution_count": 71,
   "id": "fc78a544",
   "metadata": {},
   "outputs": [
    {
     "name": "stdout",
     "output_type": "stream",
     "text": [
      "30 40\n",
      "period\n"
     ]
    }
   ],
   "source": [
    "print(bodj.c,bodj.d)\n",
    "bodj.display()"
   ]
  },
  {
   "cell_type": "code",
   "execution_count": 72,
   "id": "21c16507",
   "metadata": {},
   "outputs": [
    {
     "data": {
      "text/plain": [
       "10"
      ]
     },
     "execution_count": 72,
     "metadata": {},
     "output_type": "execute_result"
    }
   ],
   "source": [
    "bodj.a"
   ]
  },
  {
   "cell_type": "code",
   "execution_count": 73,
   "id": "3191b45b",
   "metadata": {},
   "outputs": [
    {
     "data": {
      "text/plain": [
       "20"
      ]
     },
     "execution_count": 73,
     "metadata": {},
     "output_type": "execute_result"
    }
   ],
   "source": [
    "bodj.b"
   ]
  },
  {
   "cell_type": "code",
   "execution_count": 74,
   "id": "06aedd44",
   "metadata": {},
   "outputs": [
    {
     "data": {
      "text/plain": [
       "30"
      ]
     },
     "execution_count": 74,
     "metadata": {},
     "output_type": "execute_result"
    }
   ],
   "source": [
    "bodj.c"
   ]
  },
  {
   "cell_type": "code",
   "execution_count": 75,
   "id": "b6252188",
   "metadata": {},
   "outputs": [
    {
     "data": {
      "text/plain": [
       "40"
      ]
     },
     "execution_count": 75,
     "metadata": {},
     "output_type": "execute_result"
    }
   ],
   "source": [
    "bodj.d"
   ]
  },
  {
   "cell_type": "code",
   "execution_count": 77,
   "id": "0f1c4051",
   "metadata": {},
   "outputs": [
    {
     "name": "stdout",
     "output_type": "stream",
     "text": [
      "syntax\n"
     ]
    }
   ],
   "source": [
    "bodj.show()"
   ]
  },
  {
   "cell_type": "code",
   "execution_count": 78,
   "id": "e3f04974",
   "metadata": {},
   "outputs": [
    {
     "name": "stdout",
     "output_type": "stream",
     "text": [
      "period\n"
     ]
    }
   ],
   "source": [
    "bodj.display()"
   ]
  },
  {
   "cell_type": "code",
   "execution_count": null,
   "id": "c4cf42bc",
   "metadata": {},
   "outputs": [],
   "source": []
  }
 ],
 "metadata": {
  "kernelspec": {
   "display_name": "Python 3",
   "language": "python",
   "name": "python3"
  },
  "language_info": {
   "codemirror_mode": {
    "name": "ipython",
    "version": 3
   },
   "file_extension": ".py",
   "mimetype": "text/x-python",
   "name": "python",
   "nbconvert_exporter": "python",
   "pygments_lexer": "ipython3",
   "version": "3.8.5"
  }
 },
 "nbformat": 4,
 "nbformat_minor": 5
}
