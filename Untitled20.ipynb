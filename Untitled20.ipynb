{
 "cells": [
  {
   "cell_type": "code",
   "execution_count": 1,
   "id": "87143eee",
   "metadata": {},
   "outputs": [
    {
     "name": "stdout",
     "output_type": "stream",
     "text": [
      "12345\n",
      "67891\n",
      "23456\n",
      "78912\n",
      "34567\n"
     ]
    }
   ],
   "source": [
    "with open('num.txt')as file_object:\n",
    "    cont=file_object.read()\n",
    "    print(cont)"
   ]
  },
  {
   "cell_type": "code",
   "execution_count": 8,
   "id": "d704d5d3",
   "metadata": {},
   "outputs": [
    {
     "name": "stdout",
     "output_type": "stream",
     "text": [
      "12345\n",
      "\n",
      "67891\n",
      "\n",
      "23456\n",
      "\n",
      "78912\n",
      "\n",
      "34567\n"
     ]
    }
   ],
   "source": [
    "filename='num.txt'\n",
    "with open (filename) as file_object:\n",
    "    for line in file_object:\n",
    "        print(line)"
   ]
  },
  {
   "cell_type": "code",
   "execution_count": 11,
   "id": "f32f2993",
   "metadata": {},
   "outputs": [
    {
     "name": "stdout",
     "output_type": "stream",
     "text": [
      "1234\n"
     ]
    }
   ],
   "source": [
    "with open('num.txt') as file_object:\n",
    "    cont=file_object.read(4)\n",
    "    print(cont)"
   ]
  },
  {
   "cell_type": "code",
   "execution_count": 12,
   "id": "bf480e19",
   "metadata": {},
   "outputs": [
    {
     "name": "stdout",
     "output_type": "stream",
     "text": [
      "12345\n",
      "67891\n",
      "23456\n",
      "78912\n",
      "34567\n"
     ]
    }
   ],
   "source": [
    "with open('num.txt') as file_object:\n",
    "    cont=file_object.read()\n",
    "    print(cont)"
   ]
  },
  {
   "cell_type": "code",
   "execution_count": 15,
   "id": "f520677b",
   "metadata": {},
   "outputs": [
    {
     "name": "stdout",
     "output_type": "stream",
     "text": [
      "wear mask\n",
      "keep social distance\n",
      "get vaccination\n",
      "stay home\n",
      "stay safe\n"
     ]
    }
   ],
   "source": [
    "with open ('covid.txt') as file_object:\n",
    "    abc=file_object.read()\n",
    "    print(abc)"
   ]
  },
  {
   "cell_type": "code",
   "execution_count": 20,
   "id": "b524146e",
   "metadata": {},
   "outputs": [
    {
     "name": "stdout",
     "output_type": "stream",
     "text": [
      "wear mask\n",
      "\n",
      "keep social distance\n",
      "\n",
      "get vaccination\n",
      "\n",
      "stay home\n",
      "\n",
      "stay safe\n"
     ]
    }
   ],
   "source": [
    "filename='covid.txt'\n",
    "with open (filename) as file_object:\n",
    "    for line in file_object:\n",
    "        print(line)"
   ]
  },
  {
   "cell_type": "code",
   "execution_count": 21,
   "id": "395336b4",
   "metadata": {},
   "outputs": [
    {
     "name": "stdout",
     "output_type": "stream",
     "text": [
      "wear m\n"
     ]
    }
   ],
   "source": [
    "with open ('covid.txt') as file_object:\n",
    "    abcd=file_object.read(6)\n",
    "    print(abcd)"
   ]
  },
  {
   "cell_type": "code",
   "execution_count": 26,
   "id": "70ab69ec",
   "metadata": {},
   "outputs": [
    {
     "name": "stdout",
     "output_type": "stream",
     "text": [
      "wear mask\n",
      "keep social distance\n",
      "get vaccination\n",
      "stay home\n",
      "stay safe\n"
     ]
    }
   ],
   "source": [
    "f=open('covid.txt','r')\n",
    "print(f.read())"
   ]
  },
  {
   "cell_type": "code",
   "execution_count": 27,
   "id": "8a5419af",
   "metadata": {},
   "outputs": [
    {
     "name": "stdout",
     "output_type": "stream",
     "text": [
      "wear mask\n",
      "\n"
     ]
    }
   ],
   "source": [
    "f=open('covid.txt','r')\n",
    "print(f.read(10))"
   ]
  },
  {
   "cell_type": "code",
   "execution_count": 28,
   "id": "dd07ba6b",
   "metadata": {},
   "outputs": [
    {
     "name": "stdout",
     "output_type": "stream",
     "text": [
      "wear mask\n",
      "keep socia\n"
     ]
    }
   ],
   "source": [
    "f=open('covid.txt','r')\n",
    "print(f.read(20))"
   ]
  },
  {
   "cell_type": "code",
   "execution_count": 31,
   "id": "b6678491",
   "metadata": {},
   "outputs": [],
   "source": [
    "filename='covid.txt'\n",
    "with open (filename,'w') as file_object:\n",
    "    file_object.write('i am good')"
   ]
  },
  {
   "cell_type": "code",
   "execution_count": 32,
   "id": "5140e6ab",
   "metadata": {},
   "outputs": [
    {
     "name": "stdout",
     "output_type": "stream",
     "text": [
      "i am good\n"
     ]
    }
   ],
   "source": [
    "with open ('covid.txt') as file_object:\n",
    "    pqr=file_object.read()\n",
    "    print(pqr)"
   ]
  },
  {
   "cell_type": "code",
   "execution_count": 40,
   "id": "e7937d5f",
   "metadata": {},
   "outputs": [],
   "source": [
    "filename='covid.txt'\n",
    "with open (filename,'a') as file_object:\n",
    "    file_object.write('i am happy')"
   ]
  },
  {
   "cell_type": "code",
   "execution_count": 41,
   "id": "c5fa4b29",
   "metadata": {},
   "outputs": [
    {
     "name": "stdout",
     "output_type": "stream",
     "text": [
      "i am goodi am fine i am finei am finei am finei am happy\n"
     ]
    }
   ],
   "source": [
    "with open ('covid.txt') as file_object:\n",
    "    xyz=file_object.read()\n",
    "    print(xyz)"
   ]
  },
  {
   "cell_type": "code",
   "execution_count": null,
   "id": "e3a64c05",
   "metadata": {},
   "outputs": [],
   "source": []
  },
  {
   "cell_type": "code",
   "execution_count": null,
   "id": "7c7f1ad5",
   "metadata": {},
   "outputs": [],
   "source": []
  },
  {
   "cell_type": "code",
   "execution_count": null,
   "id": "b133da7e",
   "metadata": {},
   "outputs": [],
   "source": []
  },
  {
   "cell_type": "code",
   "execution_count": null,
   "id": "6aaeec5a",
   "metadata": {},
   "outputs": [],
   "source": []
  },
  {
   "cell_type": "code",
   "execution_count": null,
   "id": "401e5f25",
   "metadata": {},
   "outputs": [],
   "source": []
  },
  {
   "cell_type": "code",
   "execution_count": null,
   "id": "5a674052",
   "metadata": {},
   "outputs": [],
   "source": []
  },
  {
   "cell_type": "code",
   "execution_count": null,
   "id": "63d86b9b",
   "metadata": {},
   "outputs": [],
   "source": []
  }
 ],
 "metadata": {
  "kernelspec": {
   "display_name": "Python 3",
   "language": "python",
   "name": "python3"
  },
  "language_info": {
   "codemirror_mode": {
    "name": "ipython",
    "version": 3
   },
   "file_extension": ".py",
   "mimetype": "text/x-python",
   "name": "python",
   "nbconvert_exporter": "python",
   "pygments_lexer": "ipython3",
   "version": "3.8.5"
  }
 },
 "nbformat": 4,
 "nbformat_minor": 5
}
