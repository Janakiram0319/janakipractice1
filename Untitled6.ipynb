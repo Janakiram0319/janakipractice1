{
 "cells": [
  {
   "cell_type": "code",
   "execution_count": 1,
   "id": "d9abf96d",
   "metadata": {},
   "outputs": [],
   "source": [
    "movies=['spiderman','thor','captain america','iron man']"
   ]
  },
  {
   "cell_type": "code",
   "execution_count": 2,
   "id": "fba3c8f5",
   "metadata": {},
   "outputs": [
    {
     "name": "stdout",
     "output_type": "stream",
     "text": [
      "['spiderman', 'thor', 'captain america', 'iron man']\n"
     ]
    }
   ],
   "source": [
    "print(movies)"
   ]
  },
  {
   "cell_type": "code",
   "execution_count": 5,
   "id": "1551a61b",
   "metadata": {},
   "outputs": [],
   "source": [
    "movies.append('wonder women')"
   ]
  },
  {
   "cell_type": "code",
   "execution_count": 6,
   "id": "ad466284",
   "metadata": {},
   "outputs": [
    {
     "name": "stdout",
     "output_type": "stream",
     "text": [
      "['spiderman', 'thor', 'captain america', 'iron man', 'wonder women']\n"
     ]
    }
   ],
   "source": [
    "print(movies)"
   ]
  },
  {
   "cell_type": "code",
   "execution_count": 8,
   "id": "327e7ebf",
   "metadata": {},
   "outputs": [],
   "source": [
    "movies.insert(2,'godzilla')"
   ]
  },
  {
   "cell_type": "code",
   "execution_count": 9,
   "id": "d1966882",
   "metadata": {},
   "outputs": [
    {
     "name": "stdout",
     "output_type": "stream",
     "text": [
      "['spiderman', 'thor', 'godzilla', 'captain america', 'iron man', 'wonder women']\n"
     ]
    }
   ],
   "source": [
    "print(movies)"
   ]
  },
  {
   "cell_type": "code",
   "execution_count": 10,
   "id": "ae4efa37",
   "metadata": {},
   "outputs": [],
   "source": [
    "movies[1]='kong'"
   ]
  },
  {
   "cell_type": "code",
   "execution_count": 11,
   "id": "7ed5a2ef",
   "metadata": {},
   "outputs": [
    {
     "name": "stdout",
     "output_type": "stream",
     "text": [
      "['spiderman', 'kong', 'godzilla', 'captain america', 'iron man', 'wonder women']\n"
     ]
    }
   ],
   "source": [
    "print(movies)"
   ]
  },
  {
   "cell_type": "code",
   "execution_count": 12,
   "id": "25167a12",
   "metadata": {},
   "outputs": [
    {
     "data": {
      "text/plain": [
       "'wonder women'"
      ]
     },
     "execution_count": 12,
     "metadata": {},
     "output_type": "execute_result"
    }
   ],
   "source": [
    "movies.pop()"
   ]
  },
  {
   "cell_type": "code",
   "execution_count": 13,
   "id": "845ea8f6",
   "metadata": {},
   "outputs": [
    {
     "name": "stdout",
     "output_type": "stream",
     "text": [
      "['spiderman', 'kong', 'godzilla', 'captain america', 'iron man']\n"
     ]
    }
   ],
   "source": [
    "print(movies)"
   ]
  },
  {
   "cell_type": "code",
   "execution_count": 15,
   "id": "72c059bb",
   "metadata": {},
   "outputs": [],
   "source": [
    "movies.sort()"
   ]
  },
  {
   "cell_type": "code",
   "execution_count": 16,
   "id": "525f35b9",
   "metadata": {},
   "outputs": [
    {
     "name": "stdout",
     "output_type": "stream",
     "text": [
      "['captain america', 'godzilla', 'iron man', 'kong', 'spiderman']\n"
     ]
    }
   ],
   "source": [
    "print(movies)"
   ]
  },
  {
   "cell_type": "code",
   "execution_count": 17,
   "id": "97e2514b",
   "metadata": {},
   "outputs": [],
   "source": [
    "movies.reverse()"
   ]
  },
  {
   "cell_type": "code",
   "execution_count": 18,
   "id": "c8169f04",
   "metadata": {},
   "outputs": [
    {
     "name": "stdout",
     "output_type": "stream",
     "text": [
      "['spiderman', 'kong', 'iron man', 'godzilla', 'captain america']\n"
     ]
    }
   ],
   "source": [
    "print(movies)"
   ]
  },
  {
   "cell_type": "code",
   "execution_count": 19,
   "id": "dc633f72",
   "metadata": {},
   "outputs": [
    {
     "data": {
      "text/plain": [
       "5"
      ]
     },
     "execution_count": 19,
     "metadata": {},
     "output_type": "execute_result"
    }
   ],
   "source": [
    "len(movies)"
   ]
  },
  {
   "cell_type": "code",
   "execution_count": 20,
   "id": "20f3a200",
   "metadata": {},
   "outputs": [],
   "source": [
    "my_hobbies=['watching t.v','watching movies','playing cricket']"
   ]
  },
  {
   "cell_type": "code",
   "execution_count": 21,
   "id": "4f48a236",
   "metadata": {},
   "outputs": [
    {
     "name": "stdout",
     "output_type": "stream",
     "text": [
      "['watching t.v', 'watching movies', 'playing cricket']\n"
     ]
    }
   ],
   "source": [
    "print(my_hobbies)"
   ]
  },
  {
   "cell_type": "code",
   "execution_count": 22,
   "id": "d5ee5037",
   "metadata": {},
   "outputs": [],
   "source": [
    "myfriend_hobbies=my_hobbies"
   ]
  },
  {
   "cell_type": "code",
   "execution_count": 23,
   "id": "9119553b",
   "metadata": {},
   "outputs": [
    {
     "name": "stdout",
     "output_type": "stream",
     "text": [
      "['watching t.v', 'watching movies', 'playing cricket']\n"
     ]
    }
   ],
   "source": [
    "print(myfriend_hobbies)"
   ]
  },
  {
   "cell_type": "code",
   "execution_count": 24,
   "id": "ec1e1976",
   "metadata": {},
   "outputs": [],
   "source": [
    "characters=['rocket','root','spark','chris evans']"
   ]
  },
  {
   "cell_type": "code",
   "execution_count": 25,
   "id": "7219a193",
   "metadata": {},
   "outputs": [
    {
     "name": "stdout",
     "output_type": "stream",
     "text": [
      "['rocket', 'root', 'spark', 'chris evans']\n"
     ]
    }
   ],
   "source": [
    "print(characters)"
   ]
  },
  {
   "cell_type": "code",
   "execution_count": 26,
   "id": "f90cba57",
   "metadata": {},
   "outputs": [
    {
     "name": "stdout",
     "output_type": "stream",
     "text": [
      "rocket\n",
      "root\n",
      "spark\n",
      "chris evans\n"
     ]
    }
   ],
   "source": [
    "for character in characters:\n",
    "    print(character)"
   ]
  },
  {
   "cell_type": "code",
   "execution_count": 30,
   "id": "2b137497",
   "metadata": {},
   "outputs": [
    {
     "name": "stdout",
     "output_type": "stream",
     "text": [
      "rocket\n",
      "root\n",
      "spark\n",
      "chris evans\n"
     ]
    }
   ],
   "source": [
    "for g in characters:\n",
    "    print(g)"
   ]
  },
  {
   "cell_type": "code",
   "execution_count": 31,
   "id": "89706653",
   "metadata": {},
   "outputs": [
    {
     "name": "stdout",
     "output_type": "stream",
     "text": [
      "here is the list of the my favourite characters\n",
      "rocket\n",
      "root\n",
      "spark\n",
      "chris evans\n"
     ]
    }
   ],
   "source": [
    "print('here is the list of the my favourite characters')\n",
    "for f in characters:\n",
    "    print(f)"
   ]
  },
  {
   "cell_type": "code",
   "execution_count": 32,
   "id": "c96dc3c1",
   "metadata": {},
   "outputs": [
    {
     "name": "stdout",
     "output_type": "stream",
     "text": [
      "['rocket', 'root', 'spark', 'chris evans']\n"
     ]
    }
   ],
   "source": [
    "print(characters)"
   ]
  },
  {
   "cell_type": "code",
   "execution_count": 33,
   "id": "5b26757a",
   "metadata": {},
   "outputs": [
    {
     "name": "stdout",
     "output_type": "stream",
     "text": [
      "root\n"
     ]
    }
   ],
   "source": [
    "print(characters[1])"
   ]
  },
  {
   "cell_type": "code",
   "execution_count": 34,
   "id": "8b96cb27",
   "metadata": {},
   "outputs": [
    {
     "name": "stdout",
     "output_type": "stream",
     "text": [
      "chris evans\n"
     ]
    }
   ],
   "source": [
    "print(characters[3])"
   ]
  },
  {
   "cell_type": "code",
   "execution_count": 36,
   "id": "8c0d2418",
   "metadata": {},
   "outputs": [
    {
     "name": "stdout",
     "output_type": "stream",
     "text": [
      "chris evans\n"
     ]
    }
   ],
   "source": [
    "print(characters[-1])"
   ]
  },
  {
   "cell_type": "code",
   "execution_count": 37,
   "id": "ea2e7b80",
   "metadata": {},
   "outputs": [
    {
     "name": "stdout",
     "output_type": "stream",
     "text": [
      "['rocket', 'root', 'spark', 'chris evans']\n"
     ]
    }
   ],
   "source": [
    "print(characters)"
   ]
  },
  {
   "cell_type": "code",
   "execution_count": 38,
   "id": "50e0f46f",
   "metadata": {},
   "outputs": [
    {
     "data": {
      "text/plain": [
       "4"
      ]
     },
     "execution_count": 38,
     "metadata": {},
     "output_type": "execute_result"
    }
   ],
   "source": [
    "len(characters)"
   ]
  },
  {
   "cell_type": "code",
   "execution_count": 39,
   "id": "637ac4b6",
   "metadata": {},
   "outputs": [
    {
     "name": "stdout",
     "output_type": "stream",
     "text": [
      "['root', 'spark']\n"
     ]
    }
   ],
   "source": [
    "print(characters[1:3])"
   ]
  },
  {
   "cell_type": "code",
   "execution_count": 41,
   "id": "a4628cac",
   "metadata": {},
   "outputs": [
    {
     "name": "stdout",
     "output_type": "stream",
     "text": [
      "['spark', 'chris evans']\n"
     ]
    }
   ],
   "source": [
    "print(characters[2:4])"
   ]
  },
  {
   "cell_type": "code",
   "execution_count": null,
   "id": "974ef172",
   "metadata": {},
   "outputs": [],
   "source": []
  },
  {
   "cell_type": "code",
   "execution_count": null,
   "id": "00ec7143",
   "metadata": {},
   "outputs": [],
   "source": []
  }
 ],
 "metadata": {
  "kernelspec": {
   "display_name": "Python 3",
   "language": "python",
   "name": "python3"
  },
  "language_info": {
   "codemirror_mode": {
    "name": "ipython",
    "version": 3
   },
   "file_extension": ".py",
   "mimetype": "text/x-python",
   "name": "python",
   "nbconvert_exporter": "python",
   "pygments_lexer": "ipython3",
   "version": "3.8.5"
  }
 },
 "nbformat": 4,
 "nbformat_minor": 5
}
