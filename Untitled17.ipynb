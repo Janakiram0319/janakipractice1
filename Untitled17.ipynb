{
 "cells": [
  {
   "cell_type": "code",
   "execution_count": 64,
   "id": "b7139960",
   "metadata": {},
   "outputs": [],
   "source": [
    "class student:\n",
    "    rno=123\n",
    "    name='abc'\n",
    "    branch='mec'\n",
    "    def read(self):\n",
    "        print('reading')\n",
    "    def greet(self):\n",
    "        print('hello all')"
   ]
  },
  {
   "cell_type": "code",
   "execution_count": 65,
   "id": "305d5e2a",
   "metadata": {},
   "outputs": [],
   "source": [
    "a1=student()"
   ]
  },
  {
   "cell_type": "code",
   "execution_count": 3,
   "id": "95ff55e7",
   "metadata": {},
   "outputs": [
    {
     "data": {
      "text/plain": [
       "123"
      ]
     },
     "execution_count": 3,
     "metadata": {},
     "output_type": "execute_result"
    }
   ],
   "source": [
    "a1.rno"
   ]
  },
  {
   "cell_type": "code",
   "execution_count": 5,
   "id": "2981e96e",
   "metadata": {},
   "outputs": [
    {
     "name": "stdout",
     "output_type": "stream",
     "text": [
      "rno= 123\n",
      "name= abc\n",
      "branch= mec\n"
     ]
    }
   ],
   "source": [
    "print('rno=',a1.rno)\n",
    "print('name=',a1.name)\n",
    "print('branch=',a1.branch)"
   ]
  },
  {
   "cell_type": "code",
   "execution_count": 49,
   "id": "9a58cb09",
   "metadata": {},
   "outputs": [
    {
     "name": "stdout",
     "output_type": "stream",
     "text": [
      "reading\n"
     ]
    }
   ],
   "source": [
    "a1.read()"
   ]
  },
  {
   "cell_type": "code",
   "execution_count": 50,
   "id": "85dcf3d9",
   "metadata": {},
   "outputs": [
    {
     "name": "stdout",
     "output_type": "stream",
     "text": [
      "reading\n"
     ]
    }
   ],
   "source": [
    "a1.read()"
   ]
  },
  {
   "cell_type": "code",
   "execution_count": 66,
   "id": "26d954ee",
   "metadata": {},
   "outputs": [
    {
     "name": "stdout",
     "output_type": "stream",
     "text": [
      "hello all\n"
     ]
    }
   ],
   "source": [
    "a1.greet()"
   ]
  },
  {
   "cell_type": "code",
   "execution_count": 67,
   "id": "3828ad4e",
   "metadata": {},
   "outputs": [
    {
     "name": "stdout",
     "output_type": "stream",
     "text": [
      "hello all\n"
     ]
    }
   ],
   "source": [
    "a1.greet()"
   ]
  },
  {
   "cell_type": "code",
   "execution_count": 68,
   "id": "bba6fe34",
   "metadata": {},
   "outputs": [
    {
     "name": "stdout",
     "output_type": "stream",
     "text": [
      "reading\n",
      "hello all\n"
     ]
    }
   ],
   "source": [
    "a1.read()\n",
    "a1.greet()"
   ]
  },
  {
   "cell_type": "code",
   "execution_count": 52,
   "id": "e80290fd",
   "metadata": {},
   "outputs": [
    {
     "name": "stdout",
     "output_type": "stream",
     "text": [
      "reading\n"
     ]
    }
   ],
   "source": [
    "a1.read()"
   ]
  },
  {
   "cell_type": "code",
   "execution_count": 20,
   "id": "7414a3de",
   "metadata": {},
   "outputs": [],
   "source": [
    "class example:\n",
    "    x=6\n",
    "    y=3"
   ]
  },
  {
   "cell_type": "code",
   "execution_count": 21,
   "id": "a275c341",
   "metadata": {},
   "outputs": [],
   "source": [
    "key=example"
   ]
  },
  {
   "cell_type": "code",
   "execution_count": 22,
   "id": "988ea78b",
   "metadata": {},
   "outputs": [
    {
     "data": {
      "text/plain": [
       "6"
      ]
     },
     "execution_count": 22,
     "metadata": {},
     "output_type": "execute_result"
    }
   ],
   "source": [
    "key.x"
   ]
  },
  {
   "cell_type": "code",
   "execution_count": 23,
   "id": "957e35d9",
   "metadata": {},
   "outputs": [
    {
     "data": {
      "text/plain": [
       "3"
      ]
     },
     "execution_count": 23,
     "metadata": {},
     "output_type": "execute_result"
    }
   ],
   "source": [
    "key.y"
   ]
  },
  {
   "cell_type": "code",
   "execution_count": 24,
   "id": "71ae5601",
   "metadata": {},
   "outputs": [
    {
     "data": {
      "text/plain": [
       "3"
      ]
     },
     "execution_count": 24,
     "metadata": {},
     "output_type": "execute_result"
    }
   ],
   "source": [
    "key.x\n",
    "key.y"
   ]
  },
  {
   "cell_type": "code",
   "execution_count": 25,
   "id": "4b9d8197",
   "metadata": {},
   "outputs": [
    {
     "name": "stdout",
     "output_type": "stream",
     "text": [
      "6 3\n"
     ]
    }
   ],
   "source": [
    "print(key.x,key.y)"
   ]
  },
  {
   "cell_type": "code",
   "execution_count": 26,
   "id": "5c2283f5",
   "metadata": {},
   "outputs": [],
   "source": [
    "luck=example"
   ]
  },
  {
   "cell_type": "code",
   "execution_count": 27,
   "id": "d8ea3639",
   "metadata": {},
   "outputs": [
    {
     "name": "stdout",
     "output_type": "stream",
     "text": [
      "6 3\n"
     ]
    }
   ],
   "source": [
    "print(luck.x,luck.y)"
   ]
  },
  {
   "cell_type": "code",
   "execution_count": 60,
   "id": "6bac65be",
   "metadata": {},
   "outputs": [],
   "source": [
    "class fruits:\n",
    "    def mango(self):\n",
    "        print('it is yellow')\n",
    "    def strawberry(self):\n",
    "        print('it is red')"
   ]
  },
  {
   "cell_type": "code",
   "execution_count": 61,
   "id": "3011bfc7",
   "metadata": {},
   "outputs": [],
   "source": [
    "k=fruits()"
   ]
  },
  {
   "cell_type": "code",
   "execution_count": 62,
   "id": "8a564d4f",
   "metadata": {},
   "outputs": [
    {
     "name": "stdout",
     "output_type": "stream",
     "text": [
      "it is yellow\n"
     ]
    }
   ],
   "source": [
    "k.mango()"
   ]
  },
  {
   "cell_type": "code",
   "execution_count": 63,
   "id": "9ae89412",
   "metadata": {},
   "outputs": [
    {
     "name": "stdout",
     "output_type": "stream",
     "text": [
      "it is red\n"
     ]
    }
   ],
   "source": [
    "k.strawberry()"
   ]
  },
  {
   "cell_type": "code",
   "execution_count": 104,
   "id": "8f284295",
   "metadata": {},
   "outputs": [],
   "source": [
    "class name:\n",
    "    def createname(self,name):\n",
    "        self.name=name\n",
    "    def display(self):\n",
    "            return self.name\n",
    "    def greeting(self):\n",
    "            print(f\"hello,(self.name)\")"
   ]
  },
  {
   "cell_type": "code",
   "execution_count": 81,
   "id": "87e049bc",
   "metadata": {},
   "outputs": [],
   "source": [
    "pubg=name()"
   ]
  },
  {
   "cell_type": "code",
   "execution_count": 83,
   "id": "25c062c6",
   "metadata": {},
   "outputs": [],
   "source": [
    "pubg.createname(\"ram\")"
   ]
  },
  {
   "cell_type": "code",
   "execution_count": 84,
   "id": "fdade33b",
   "metadata": {},
   "outputs": [
    {
     "data": {
      "text/plain": [
       "'ram'"
      ]
     },
     "execution_count": 84,
     "metadata": {},
     "output_type": "execute_result"
    }
   ],
   "source": [
    "pubg.display()"
   ]
  },
  {
   "cell_type": "code",
   "execution_count": null,
   "id": "ec7a1290",
   "metadata": {},
   "outputs": [],
   "source": []
  },
  {
   "cell_type": "code",
   "execution_count": null,
   "id": "06b79e77",
   "metadata": {},
   "outputs": [],
   "source": []
  },
  {
   "cell_type": "code",
   "execution_count": null,
   "id": "2dc989c4",
   "metadata": {},
   "outputs": [],
   "source": []
  },
  {
   "cell_type": "code",
   "execution_count": null,
   "id": "e1b33c44",
   "metadata": {},
   "outputs": [],
   "source": []
  },
  {
   "cell_type": "code",
   "execution_count": null,
   "id": "557e6ce7",
   "metadata": {},
   "outputs": [],
   "source": []
  }
 ],
 "metadata": {
  "kernelspec": {
   "display_name": "Python 3",
   "language": "python",
   "name": "python3"
  },
  "language_info": {
   "codemirror_mode": {
    "name": "ipython",
    "version": 3
   },
   "file_extension": ".py",
   "mimetype": "text/x-python",
   "name": "python",
   "nbconvert_exporter": "python",
   "pygments_lexer": "ipython3",
   "version": "3.8.5"
  }
 },
 "nbformat": 4,
 "nbformat_minor": 5
}
