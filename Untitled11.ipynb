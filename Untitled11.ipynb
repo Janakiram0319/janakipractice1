{
 "cells": [
  {
   "cell_type": "code",
   "execution_count": 10,
   "id": "40798962",
   "metadata": {},
   "outputs": [],
   "source": [
    "cars=('audi','bmw','kia','toyata','mghector')"
   ]
  },
  {
   "cell_type": "code",
   "execution_count": 15,
   "id": "43b81882",
   "metadata": {},
   "outputs": [
    {
     "name": "stdout",
     "output_type": "stream",
     "text": [
      "Audi\n",
      "BMW\n",
      "Kia\n",
      "Toyata\n",
      "Mghector\n"
     ]
    }
   ],
   "source": [
    "for car in cars:\n",
    "    if car=='bmw':\n",
    "        print(car.upper())\n",
    "    else:\n",
    "        print(car.title())"
   ]
  },
  {
   "cell_type": "code",
   "execution_count": 17,
   "id": "1eee38ed",
   "metadata": {},
   "outputs": [
    {
     "name": "stdout",
     "output_type": "stream",
     "text": [
      "5* 1 = 2\n",
      "5* 2 = 4\n",
      "5* 3 = 6\n",
      "5* 4 = 8\n",
      "5* 5 = 10\n",
      "5* 6 = 12\n",
      "5* 7 = 14\n",
      "5* 8 = 16\n",
      "5* 9 = 18\n",
      "5* 10 = 20\n"
     ]
    }
   ],
   "source": [
    "for i in range(1,11):\n",
    "    print('5*',i,'=',i*2)"
   ]
  },
  {
   "cell_type": "code",
   "execution_count": 22,
   "id": "20fed9e2",
   "metadata": {},
   "outputs": [
    {
     "name": "stdout",
     "output_type": "stream",
     "text": [
      "1\n",
      "4\n",
      "7\n",
      "10\n",
      "13\n",
      "16\n",
      "19\n",
      "22\n",
      "25\n",
      "28\n",
      "31\n",
      "34\n",
      "37\n",
      "40\n",
      "43\n",
      "46\n",
      "49\n",
      "52\n",
      "55\n",
      "58\n",
      "61\n",
      "64\n",
      "67\n",
      "70\n",
      "73\n",
      "76\n",
      "79\n",
      "82\n",
      "85\n",
      "88\n",
      "91\n",
      "94\n",
      "97\n",
      "100\n"
     ]
    }
   ],
   "source": [
    "num=1\n",
    "while num<=100:\n",
    "    print(num)\n",
    "    num=num+3"
   ]
  },
  {
   "cell_type": "code",
   "execution_count": 28,
   "id": "a8e1afb6",
   "metadata": {},
   "outputs": [
    {
     "ename": "SyntaxError",
     "evalue": "invalid syntax (<ipython-input-28-a2113366b51e>, line 2)",
     "output_type": "error",
     "traceback": [
      "\u001b[1;36m  File \u001b[1;32m\"<ipython-input-28-a2113366b51e>\"\u001b[1;36m, line \u001b[1;32m2\u001b[0m\n\u001b[1;33m    ifint%2==0:\u001b[0m\n\u001b[1;37m               ^\u001b[0m\n\u001b[1;31mSyntaxError\u001b[0m\u001b[1;31m:\u001b[0m invalid syntax\n"
     ]
    }
   ],
   "source": [
    "num=int(input('enter the number,i identiy the number even or odd'))\n",
    " if int%2==0:\n",
    "    print('even number')\n",
    "else:\n",
    "    print('odd number')"
   ]
  },
  {
   "cell_type": "code",
   "execution_count": 29,
   "id": "4ef75af3",
   "metadata": {},
   "outputs": [],
   "source": [
    "user_0={'username':'janaki ram','first_name':'janaki','last_name':'ram','malid':'janakiram@gamil.com','pwd':'123456'}"
   ]
  },
  {
   "cell_type": "code",
   "execution_count": 30,
   "id": "23bd5260",
   "metadata": {},
   "outputs": [
    {
     "name": "stdout",
     "output_type": "stream",
     "text": [
      "{'username': 'janaki ram', 'first_name': 'janaki', 'last_name': 'ram', 'malid': 'janakiram@gamil.com', 'pwd': '123456'}\n"
     ]
    }
   ],
   "source": [
    "print(user_0)"
   ]
  },
  {
   "cell_type": "code",
   "execution_count": 31,
   "id": "94f643c0",
   "metadata": {},
   "outputs": [
    {
     "data": {
      "text/plain": [
       "dict"
      ]
     },
     "execution_count": 31,
     "metadata": {},
     "output_type": "execute_result"
    }
   ],
   "source": [
    "type(user_0)"
   ]
  },
  {
   "cell_type": "code",
   "execution_count": 35,
   "id": "a55abed3",
   "metadata": {},
   "outputs": [
    {
     "name": "stdout",
     "output_type": "stream",
     "text": [
      "JANAKI RAM\n"
     ]
    }
   ],
   "source": [
    "print(user_0['username'].upper())"
   ]
  },
  {
   "cell_type": "code",
   "execution_count": 37,
   "id": "384d3e28",
   "metadata": {},
   "outputs": [
    {
     "name": "stdout",
     "output_type": "stream",
     "text": [
      "Janakiram@Gamil.Com\n"
     ]
    }
   ],
   "source": [
    "print(user_0['malid'].title())"
   ]
  },
  {
   "cell_type": "code",
   "execution_count": 38,
   "id": "4d88f501",
   "metadata": {},
   "outputs": [
    {
     "name": "stdout",
     "output_type": "stream",
     "text": [
      "123456\n"
     ]
    }
   ],
   "source": [
    "print(user_0['pwd'])"
   ]
  },
  {
   "cell_type": "code",
   "execution_count": null,
   "id": "c842e1e0",
   "metadata": {},
   "outputs": [],
   "source": [
    "num=int(input('enter the number i will tell the number type'))\n",
    "if num%2==0:\n",
    "    print('even number')\n",
    "else:\n",
    "    print('odd number')"
   ]
  },
  {
   "cell_type": "code",
   "execution_count": null,
   "id": "135325b7",
   "metadata": {},
   "outputs": [],
   "source": [
    "num=int(input('enter the number i will tell the number type'))\n",
    "if int%2==0:\n",
    "    print('even number')\n",
    "else:\n",
    "    print('odd number')"
   ]
  },
  {
   "cell_type": "code",
   "execution_count": null,
   "id": "c364064a",
   "metadata": {},
   "outputs": [],
   "source": [
    "num=int(input('enter the number'))\n",
    "if num%2==0:\n",
    "    print('the number is even')\n",
    "else:\n",
    "    print('the number is odd')"
   ]
  },
  {
   "cell_type": "code",
   "execution_count": null,
   "id": "d2d8e2b4",
   "metadata": {},
   "outputs": [],
   "source": []
  },
  {
   "cell_type": "code",
   "execution_count": null,
   "id": "6db6973a",
   "metadata": {},
   "outputs": [],
   "source": []
  },
  {
   "cell_type": "code",
   "execution_count": null,
   "id": "ed10977f",
   "metadata": {},
   "outputs": [],
   "source": []
  },
  {
   "cell_type": "code",
   "execution_count": null,
   "id": "a27aae98",
   "metadata": {},
   "outputs": [],
   "source": []
  }
 ],
 "metadata": {
  "kernelspec": {
   "display_name": "Python 3",
   "language": "python",
   "name": "python3"
  },
  "language_info": {
   "codemirror_mode": {
    "name": "ipython",
    "version": 3
   },
   "file_extension": ".py",
   "mimetype": "text/x-python",
   "name": "python",
   "nbconvert_exporter": "python",
   "pygments_lexer": "ipython3",
   "version": "3.8.5"
  }
 },
 "nbformat": 4,
 "nbformat_minor": 5
}
