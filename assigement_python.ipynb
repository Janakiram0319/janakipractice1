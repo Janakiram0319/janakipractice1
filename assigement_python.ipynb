{
 "cells": [
  {
   "cell_type": "markdown",
   "id": "efa56635",
   "metadata": {},
   "source": [
    "FUNCTION TO MAKE A T-SHIRT"
   ]
  },
  {
   "cell_type": "code",
   "execution_count": 8,
   "id": "6d4bfc77",
   "metadata": {},
   "outputs": [],
   "source": [
    "def make_shirt(size='small',message='hii all'):\n",
    "        print(f\"\\n T-Shirt size is {size.title()} and the message is {message.title()}\")"
   ]
  },
  {
   "cell_type": "code",
   "execution_count": 9,
   "id": "cdfc8ade",
   "metadata": {},
   "outputs": [
    {
     "name": "stdout",
     "output_type": "stream",
     "text": [
      "\n",
      " T-Shirt size is Small and the message is Hii All\n"
     ]
    }
   ],
   "source": [
    "make_shirt()                            #keyword arugement"
   ]
  },
  {
   "cell_type": "code",
   "execution_count": 10,
   "id": "6450389a",
   "metadata": {},
   "outputs": [
    {
     "name": "stdout",
     "output_type": "stream",
     "text": [
      "\n",
      " T-Shirt size is Medium and the message is Strongest Choices Requires The Strongest Will\n"
     ]
    }
   ],
   "source": [
    "make_shirt('medium','strongest choices requires the strongest will')                       #positisonal arugement"
   ]
  },
  {
   "cell_type": "markdown",
   "id": "81fb955d",
   "metadata": {},
   "source": [
    "FUNCTION FOR LARGE SHIRT"
   ]
  },
  {
   "cell_type": "code",
   "execution_count": 12,
   "id": "b614b614",
   "metadata": {},
   "outputs": [],
   "source": [
    "def make_shirt(message,size='large'):                                                    #size is default\n",
    "    print(f\"\\n T-shirt is {size.title()} and the message is {message.title()}\")"
   ]
  },
  {
   "cell_type": "code",
   "execution_count": 14,
   "id": "a1094e46",
   "metadata": {},
   "outputs": [
    {
     "name": "stdout",
     "output_type": "stream",
     "text": [
      "\n",
      " T-shirt is Large and the message is I Love Python\n"
     ]
    }
   ],
   "source": [
    "make_shirt('i love python')"
   ]
  },
  {
   "cell_type": "code",
   "execution_count": 16,
   "id": "4a83ff19",
   "metadata": {},
   "outputs": [],
   "source": [
    "def make_shirt(size,message='what ever it takes'):                                             #msg is default\n",
    "    print(f\"\\nT-shirt is {size.title()} and the message is {message.title()}\")"
   ]
  },
  {
   "cell_type": "code",
   "execution_count": 17,
   "id": "4cae7108",
   "metadata": {},
   "outputs": [
    {
     "name": "stdout",
     "output_type": "stream",
     "text": [
      "\n",
      "T-shirt is Large and the message is What Ever It Takes\n"
     ]
    }
   ],
   "source": [
    "make_shirt('large')"
   ]
  },
  {
   "cell_type": "code",
   "execution_count": 18,
   "id": "868be813",
   "metadata": {},
   "outputs": [
    {
     "name": "stdout",
     "output_type": "stream",
     "text": [
      "\n",
      "T-shirt is Medium and the message is What Ever It Takes\n"
     ]
    }
   ],
   "source": [
    "make_shirt('medium')"
   ]
  },
  {
   "cell_type": "code",
   "execution_count": 19,
   "id": "e207bee8",
   "metadata": {},
   "outputs": [
    {
     "name": "stdout",
     "output_type": "stream",
     "text": [
      "\n",
      "T-shirt is Extra Small and the message is King Of Asgard\n"
     ]
    }
   ],
   "source": [
    "make_shirt('extra small','king of asgard')"
   ]
  },
  {
   "cell_type": "markdown",
   "id": "6a8d208c",
   "metadata": {},
   "source": [
    "FUNCTION FOR A CITIES"
   ]
  },
  {
   "cell_type": "code",
   "execution_count": 22,
   "id": "7ad7d185",
   "metadata": {},
   "outputs": [],
   "source": [
    "def describe_city(city,country):\n",
    "    print(f\"\\n{city.title()} is in {country.title()}\")"
   ]
  },
  {
   "cell_type": "code",
   "execution_count": 23,
   "id": "86528b93",
   "metadata": {},
   "outputs": [
    {
     "name": "stdout",
     "output_type": "stream",
     "text": [
      "\n",
      "Hyderabad is in India\n"
     ]
    }
   ],
   "source": [
    "describe_city('hyderabad','india')"
   ]
  },
  {
   "cell_type": "code",
   "execution_count": 24,
   "id": "4729a66f",
   "metadata": {},
   "outputs": [
    {
     "name": "stdout",
     "output_type": "stream",
     "text": [
      "\n",
      "Dubai is in U.A.E\n"
     ]
    }
   ],
   "source": [
    "describe_city('dubai','u.a.e')"
   ]
  },
  {
   "cell_type": "code",
   "execution_count": null,
   "id": "09d6c891",
   "metadata": {},
   "outputs": [],
   "source": []
  },
  {
   "cell_type": "code",
   "execution_count": null,
   "id": "31cea2fb",
   "metadata": {},
   "outputs": [],
   "source": []
  },
  {
   "cell_type": "code",
   "execution_count": null,
   "id": "f608abfd",
   "metadata": {},
   "outputs": [],
   "source": []
  },
  {
   "cell_type": "code",
   "execution_count": null,
   "id": "c2a15df4",
   "metadata": {},
   "outputs": [],
   "source": []
  }
 ],
 "metadata": {
  "kernelspec": {
   "display_name": "Python 3",
   "language": "python",
   "name": "python3"
  },
  "language_info": {
   "codemirror_mode": {
    "name": "ipython",
    "version": 3
   },
   "file_extension": ".py",
   "mimetype": "text/x-python",
   "name": "python",
   "nbconvert_exporter": "python",
   "pygments_lexer": "ipython3",
   "version": "3.8.5"
  }
 },
 "nbformat": 4,
 "nbformat_minor": 5
}
